{
 "cells": [
  {
   "cell_type": "code",
   "execution_count": 2,
   "metadata": {},
   "outputs": [],
   "source": [
    "# tally up amount customer spent\n",
    "\n",
    "from pyspark import SparkContext, SparkConf\n",
    "conf = SparkConf().setMaster(\"local\").setAppName(\"TallyUpAmountCustomerSpent\")\n",
    "\n",
    "sc = SparkContext(conf = conf)"
   ]
  },
  {
   "cell_type": "code",
   "execution_count": 3,
   "metadata": {},
   "outputs": [],
   "source": [
    "lines = sc.textFile(\"/home/jovyan/examples/data-samples/spark-examples/customer-orders.csv\")\n",
    "\n",
    "#customer-orders.csv\n",
    "#customerId, itemId, amountSpentonTheItem"
   ]
  },
  {
   "cell_type": "code",
   "execution_count": 4,
   "metadata": {},
   "outputs": [],
   "source": [
    "def customerOrder(order):\n",
    "    fields = order.split(',')\n",
    "    \n",
    "    #return customerId and amountSpent\n",
    "    return (int(fields[0]), float(fields[2]))"
   ]
  },
  {
   "cell_type": "code",
   "execution_count": null,
   "metadata": {},
   "outputs": [],
   "source": [
    "orders = lines.map(customerOrder).reduceByKey(lambda x, y: x + y)\n",
    "\n",
    "for order in orders.collect():\n",
    "    print(\"customerId: %i \\t\\t total amount: %s\" % (order[0], '${:,.2f}'.format(order[1])))"
   ]
  },
  {
   "cell_type": "code",
   "execution_count": 6,
   "metadata": {},
   "outputs": [
    {
     "name": "stdout",
     "output_type": "stream",
     "text": [
      "customerId: 45 \t\t total amount: $3,309.38\n",
      "customerId: 79 \t\t total amount: $3,790.57\n",
      "customerId: 96 \t\t total amount: $3,924.23\n",
      "customerId: 23 \t\t total amount: $4,042.65\n",
      "customerId: 99 \t\t total amount: $4,172.29\n",
      "customerId: 75 \t\t total amount: $4,178.50\n",
      "customerId: 36 \t\t total amount: $4,278.05\n",
      "customerId: 98 \t\t total amount: $4,297.26\n",
      "customerId: 47 \t\t total amount: $4,316.30\n",
      "customerId: 77 \t\t total amount: $4,327.73\n",
      "customerId: 13 \t\t total amount: $4,367.62\n",
      "customerId: 48 \t\t total amount: $4,384.33\n",
      "customerId: 49 \t\t total amount: $4,394.60\n",
      "customerId: 94 \t\t total amount: $4,475.57\n",
      "customerId: 67 \t\t total amount: $4,505.79\n",
      "customerId: 50 \t\t total amount: $4,517.27\n",
      "customerId: 78 \t\t total amount: $4,524.51\n",
      "customerId: 5 \t\t total amount: $4,561.07\n",
      "customerId: 57 \t\t total amount: $4,628.40\n",
      "customerId: 83 \t\t total amount: $4,635.80\n",
      "customerId: 91 \t\t total amount: $4,642.26\n",
      "customerId: 74 \t\t total amount: $4,647.13\n",
      "customerId: 84 \t\t total amount: $4,652.94\n",
      "customerId: 3 \t\t total amount: $4,659.63\n",
      "customerId: 12 \t\t total amount: $4,664.59\n",
      "customerId: 66 \t\t total amount: $4,681.92\n",
      "customerId: 56 \t\t total amount: $4,701.02\n",
      "customerId: 21 \t\t total amount: $4,707.41\n",
      "customerId: 80 \t\t total amount: $4,727.86\n",
      "customerId: 14 \t\t total amount: $4,735.03\n",
      "customerId: 37 \t\t total amount: $4,735.20\n",
      "customerId: 7 \t\t total amount: $4,755.07\n",
      "customerId: 44 \t\t total amount: $4,756.89\n",
      "customerId: 31 \t\t total amount: $4,765.05\n",
      "customerId: 82 \t\t total amount: $4,812.49\n",
      "customerId: 4 \t\t total amount: $4,815.05\n",
      "customerId: 10 \t\t total amount: $4,819.70\n",
      "customerId: 88 \t\t total amount: $4,830.55\n",
      "customerId: 20 \t\t total amount: $4,836.86\n",
      "customerId: 89 \t\t total amount: $4,851.48\n",
      "customerId: 95 \t\t total amount: $4,876.84\n",
      "customerId: 38 \t\t total amount: $4,898.46\n",
      "customerId: 76 \t\t total amount: $4,904.21\n",
      "customerId: 86 \t\t total amount: $4,908.81\n",
      "customerId: 27 \t\t total amount: $4,915.89\n",
      "customerId: 18 \t\t total amount: $4,921.27\n",
      "customerId: 53 \t\t total amount: $4,945.30\n",
      "customerId: 1 \t\t total amount: $4,958.60\n",
      "customerId: 51 \t\t total amount: $4,975.22\n",
      "customerId: 16 \t\t total amount: $4,979.06\n",
      "customerId: 30 \t\t total amount: $4,990.72\n",
      "customerId: 28 \t\t total amount: $5,000.71\n",
      "customerId: 22 \t\t total amount: $5,019.45\n",
      "customerId: 29 \t\t total amount: $5,032.53\n",
      "customerId: 17 \t\t total amount: $5,032.68\n",
      "customerId: 60 \t\t total amount: $5,040.71\n",
      "customerId: 25 \t\t total amount: $5,057.61\n",
      "customerId: 19 \t\t total amount: $5,059.43\n",
      "customerId: 81 \t\t total amount: $5,112.71\n",
      "customerId: 69 \t\t total amount: $5,123.01\n",
      "customerId: 65 \t\t total amount: $5,140.35\n",
      "customerId: 11 \t\t total amount: $5,152.29\n",
      "customerId: 35 \t\t total amount: $5,155.42\n",
      "customerId: 40 \t\t total amount: $5,186.43\n",
      "customerId: 87 \t\t total amount: $5,206.40\n",
      "customerId: 52 \t\t total amount: $5,245.06\n",
      "customerId: 26 \t\t total amount: $5,250.40\n",
      "customerId: 62 \t\t total amount: $5,253.32\n",
      "customerId: 33 \t\t total amount: $5,254.66\n",
      "customerId: 24 \t\t total amount: $5,259.92\n",
      "customerId: 93 \t\t total amount: $5,265.75\n",
      "customerId: 64 \t\t total amount: $5,288.69\n",
      "customerId: 90 \t\t total amount: $5,290.41\n",
      "customerId: 55 \t\t total amount: $5,298.09\n",
      "customerId: 9 \t\t total amount: $5,322.65\n",
      "customerId: 34 \t\t total amount: $5,330.80\n",
      "customerId: 72 \t\t total amount: $5,337.44\n",
      "customerId: 70 \t\t total amount: $5,368.25\n",
      "customerId: 43 \t\t total amount: $5,368.83\n",
      "customerId: 92 \t\t total amount: $5,379.28\n",
      "customerId: 6 \t\t total amount: $5,397.88\n",
      "customerId: 15 \t\t total amount: $5,413.51\n",
      "customerId: 63 \t\t total amount: $5,415.15\n",
      "customerId: 58 \t\t total amount: $5,437.73\n",
      "customerId: 32 \t\t total amount: $5,496.05\n",
      "customerId: 61 \t\t total amount: $5,497.48\n",
      "customerId: 85 \t\t total amount: $5,503.43\n",
      "customerId: 8 \t\t total amount: $5,517.24\n",
      "customerId: 0 \t\t total amount: $5,524.95\n",
      "customerId: 41 \t\t total amount: $5,637.62\n",
      "customerId: 59 \t\t total amount: $5,642.89\n",
      "customerId: 42 \t\t total amount: $5,696.84\n",
      "customerId: 46 \t\t total amount: $5,963.11\n",
      "customerId: 97 \t\t total amount: $5,977.19\n",
      "customerId: 2 \t\t total amount: $5,994.59\n",
      "customerId: 71 \t\t total amount: $5,995.66\n",
      "customerId: 54 \t\t total amount: $6,065.39\n",
      "customerId: 39 \t\t total amount: $6,193.11\n",
      "customerId: 73 \t\t total amount: $6,206.20\n",
      "customerId: 68 \t\t total amount: $6,375.45\n"
     ]
    }
   ],
   "source": [
    "orders = lines.map(customerOrder).reduceByKey(lambda x, y: x + y).map(lambda x: (x[1], x[0])).sortByKey()\n",
    "\n",
    "for order in orders.collect():\n",
    "    print(\"customerId: %i \\t\\t total amount: %s\" % (order[1], '${:,.2f}'.format(order[0])))"
   ]
  },
  {
   "cell_type": "code",
   "execution_count": null,
   "metadata": {},
   "outputs": [],
   "source": []
  }
 ],
 "metadata": {
  "kernelspec": {
   "display_name": "Python 3",
   "language": "python",
   "name": "python3"
  },
  "language_info": {
   "codemirror_mode": {
    "name": "ipython",
    "version": 3
   },
   "file_extension": ".py",
   "mimetype": "text/x-python",
   "name": "python",
   "nbconvert_exporter": "python",
   "pygments_lexer": "ipython3",
   "version": "3.7.3"
  }
 },
 "nbformat": 4,
 "nbformat_minor": 2
}
