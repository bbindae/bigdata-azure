{
 "cells": [
  {
   "cell_type": "code",
   "execution_count": 1,
   "metadata": {},
   "outputs": [],
   "source": [
    "from pyspark import SparkContext, SparkConf\n",
    "\n",
    "conf = SparkConf().setMaster(\"local\").setAppName(\"MaximumTempByLocation\")\n",
    "sc = SparkContext(conf = conf)\n"
   ]
  },
  {
   "cell_type": "code",
   "execution_count": 2,
   "metadata": {},
   "outputs": [],
   "source": [
    "lines = sc.textFile(\"/home/jovyan/examples/data-samples/spark-examples/1800.csv\")"
   ]
  },
  {
   "cell_type": "code",
   "execution_count": 5,
   "metadata": {},
   "outputs": [],
   "source": [
    "def parseLine(line):\n",
    "    fields = line.split(',')\n",
    "    locationId = fields[0]\n",
    "    tempType = fields[2]\n",
    "    temperature = fields[3]\n",
    "    return (locationId, tempType, temperature)"
   ]
  },
  {
   "cell_type": "code",
   "execution_count": 6,
   "metadata": {},
   "outputs": [
    {
     "name": "stdout",
     "output_type": "stream",
     "text": [
      "locationId: ITE00100554  Max Temps: 98\n",
      "locationId: EZE00100082  Max Temps: 99\n"
     ]
    }
   ],
   "source": [
    "#return tuple (locationId, tempType, temperature)\n",
    "parsedLine = lines.map(parseLine)\n",
    "\n",
    "#filter by tempType == TMAX\n",
    "filteredLine = parsedLine.filter(lambda x: 'TMAX' in x[1]) \\\n",
    "                .map(lambda x: (x[0], x[2])) \\\n",
    "                .reduceByKey(lambda x, y: max(x,y))\n",
    "\n",
    "for x in filteredLine.collect():\n",
    "    print(\"locationId: %s  Max Temps: %s\" % (x[0], x[1]))\n"
   ]
  },
  {
   "cell_type": "code",
   "execution_count": null,
   "metadata": {},
   "outputs": [],
   "source": []
  }
 ],
 "metadata": {
  "kernelspec": {
   "display_name": "Python 3",
   "language": "python",
   "name": "python3"
  },
  "language_info": {
   "codemirror_mode": {
    "name": "ipython",
    "version": 3
   },
   "file_extension": ".py",
   "mimetype": "text/x-python",
   "name": "python",
   "nbconvert_exporter": "python",
   "pygments_lexer": "ipython3",
   "version": "3.7.3"
  }
 },
 "nbformat": 4,
 "nbformat_minor": 2
}
