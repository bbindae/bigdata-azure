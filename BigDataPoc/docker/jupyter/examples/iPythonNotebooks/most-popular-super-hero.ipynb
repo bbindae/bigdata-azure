{
 "cells": [
  {
   "cell_type": "code",
   "execution_count": 1,
   "metadata": {},
   "outputs": [
    {
     "name": "stdout",
     "output_type": "stream",
     "text": [
      "b'CAPTAIN AMERICA' is the most popular superhero, with 1933 co-appearances\n"
     ]
    }
   ],
   "source": [
    "from pyspark import SparkContext, SparkConf\n",
    "\n",
    "conf = SparkConf().setMaster(\"local\").setAppName(\"MostPopularSuperHero\")\n",
    "sc = SparkContext(conf = conf)\n",
    "\n",
    "def countCoOccurences(line):\n",
    "    elements = line.split()\n",
    "    return (int(elements[0]), len(elements) - 1)\n",
    "\n",
    "def parseName(line):\n",
    "    fields = line.split('\\\"')\n",
    "    return (int(fields[0]), fields[1].encode(\"utf8\"))\n",
    "\n",
    "names = sc.textFile(\"/home/jovyan/examples/data-samples/spark-examples/Marvel-Names.txt\")\n",
    "names_rdd = names.map(parseName)\n",
    "\n",
    "lines = sc.textFile(\"/home/jovyan/examples/data-samples/spark-examples/Marvel-Graph.txt\")\n",
    "\n",
    "pairings = lines.map(countCoOccurences)\n",
    "totalFriendsByCharacter = pairings.reduceByKey(lambda x, y: x + y)\n",
    "flipped = totalFriendsByCharacter.map(lambda x: (x[1], x[0]))\n",
    "\n",
    "mostPopular = flipped.max()\n",
    "mostPopularName = names_rdd.lookup(mostPopular[1])[0]\n",
    "\n",
    "print(\"%s is the most popular superhero, with %s co-appearances\" % (mostPopularName, str(mostPopular[0]))) \n"
   ]
  },
  {
   "cell_type": "code",
   "execution_count": null,
   "metadata": {},
   "outputs": [],
   "source": []
  }
 ],
 "metadata": {
  "kernelspec": {
   "display_name": "Python 3",
   "language": "python",
   "name": "python3"
  },
  "language_info": {
   "codemirror_mode": {
    "name": "ipython",
    "version": 3
   },
   "file_extension": ".py",
   "mimetype": "text/x-python",
   "name": "python",
   "nbconvert_exporter": "python",
   "pygments_lexer": "ipython3",
   "version": "3.7.3"
  }
 },
 "nbformat": 4,
 "nbformat_minor": 2
}
