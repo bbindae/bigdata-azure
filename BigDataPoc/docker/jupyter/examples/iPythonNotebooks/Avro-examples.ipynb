{
 "cells": [
  {
   "cell_type": "code",
   "execution_count": 1,
   "metadata": {},
   "outputs": [],
   "source": [
    "import pyspark\n",
    "import pyspark.sql.functions as f\n",
    "from pyspark.sql import SparkSession\n",
    "\n",
    "\n",
    "spark = SparkSession \\\n",
    "    .builder \\\n",
    "    .master(\"local\") \\\n",
    "    .appName(\"spark-avro-json-sample\") \\\n",
    "    .config('spark.hadoop.avro.mapred.ignore.inputs.without.extension', 'true') \\\n",
    "    .getOrCreate()"
   ]
  },
  {
   "cell_type": "code",
   "execution_count": 3,
   "metadata": {},
   "outputs": [
    {
     "name": "stdout",
     "output_type": "stream",
     "text": [
      "root\n",
      " |-- shortSku: string (nullable = true)\n",
      " |-- userId: string (nullable = true)\n",
      " |-- receivedAt: timestamp (nullable = true)\n",
      "\n",
      "+--------+-----------+--------------------+\n",
      "|shortSku|     userId|          receivedAt|\n",
      "+--------+-----------+--------------------+\n",
      "| J132983|11193438098|2019-04-24 16:25:...|\n",
      "| A132323|11193438098|2019-04-24 18:25:...|\n",
      "| J132323|11193438098|2019-04-24 18:25:...|\n",
      "|   K3827|    3938783|2019-04-24 16:35:...|\n",
      "|   K3928|    3938783|2019-04-19 16:35:...|\n",
      "|   K3827|    3938783|2019-04-24 16:35:...|\n",
      "|  K43632|     111098|2019-04-24 16:35:...|\n",
      "|   K3827|    3938783|2019-04-24 16:35:...|\n",
      "|   Z3892|    3938783|2019-04-21 16:35:...|\n",
      "|  q43876|     111098|2019-04-24 16:35:...|\n",
      "|   K3827|    3938783|2019-04-24 16:35:...|\n",
      "|   Z3892|    3938783|2019-04-21 16:35:...|\n",
      "|   K3827|     111098|2019-04-24 16:35:...|\n",
      "|  K43632|     111098|2019-04-24 16:35:...|\n",
      "+--------+-----------+--------------------+\n",
      "\n"
     ]
    },
    {
     "data": {
      "text/plain": [
       "pyspark.sql.dataframe.DataFrame"
      ]
     },
     "execution_count": 3,
     "metadata": {},
     "output_type": "execute_result"
    }
   ],
   "source": [
    "avro_df = spark.read.format(\"avro\").load(\"/home/jovyan/examples/data-samples/product-data-capture/*/*/*/*/*/*\")\n",
    "json_df = avro_df.select(avro_df.Body.cast(\"string\")).rdd.map(lambda x: x[0])\n",
    "\n",
    "#define schema\n",
    "from pyspark.sql.types import StructType, StructField, TimestampType, StringType\n",
    "schema = StructType([StructField(\"shortSku\", StringType(), True), StructField(\"userId\", StringType(), True), \\\n",
    "                    StructField(\"receivedAt\", TimestampType(), True)])\n",
    "json_df = spark.read.json(json_df, schema = schema, timestampFormat=\"yyyy-MM-dd HH:mm:ss\")\n",
    "\n",
    "json_df.printSchema()\n",
    "json_df.show()\n",
    "type(json_df)"
   ]
  },
  {
   "cell_type": "code",
   "execution_count": 15,
   "metadata": {},
   "outputs": [
    {
     "name": "stdout",
     "output_type": "stream",
     "text": [
      "+--------+----+----+----+\n",
      "|shortSku|  19|  21|  24|\n",
      "+--------+----+----+----+\n",
      "| A132323|null|null|   1|\n",
      "|   K3928|   1|null|null|\n",
      "|  q43876|null|null|   1|\n",
      "| J132983|null|null|   1|\n",
      "| J132323|null|null|   1|\n",
      "|   Z3892|null|   2|null|\n",
      "|  K43632|null|null|   2|\n",
      "|   K3827|null|null|   5|\n",
      "+--------+----+----+----+\n",
      "\n"
     ]
    }
   ],
   "source": [
    "from pyspark.sql.functions import to_timestamp, year, month, dayofmonth\n",
    "j = json_df\n",
    "d = j.select(j.shortSku, dayofmonth(j.receivedAt).alias('day'))\n",
    "d2 = d.groupby('shortSku').pivot('day').count().show()\n",
    "#json_df = json_df.groupBy('shortSku').pivot(month(json_df.receivedAt)).count().show()"
   ]
  },
  {
   "cell_type": "code",
   "execution_count": 14,
   "metadata": {},
   "outputs": [
    {
     "ename": "AttributeError",
     "evalue": "'NoneType' object has no attribute 'createOrReplaceTempView'",
     "output_type": "error",
     "traceback": [
      "\u001b[0;31m---------------------------------------------------------------------------\u001b[0m",
      "\u001b[0;31mAttributeError\u001b[0m                            Traceback (most recent call last)",
      "\u001b[0;32m<ipython-input-14-56aaa54aa9c3>\u001b[0m in \u001b[0;36m<module>\u001b[0;34m\u001b[0m\n\u001b[0;32m----> 1\u001b[0;31m \u001b[0md\u001b[0m\u001b[0;34m.\u001b[0m\u001b[0mcreateOrReplaceTempView\u001b[0m\u001b[0;34m(\u001b[0m\u001b[0;34m\"tblProducts\"\u001b[0m\u001b[0;34m)\u001b[0m\u001b[0;34m\u001b[0m\u001b[0;34m\u001b[0m\u001b[0m\n\u001b[0m",
      "\u001b[0;31mAttributeError\u001b[0m: 'NoneType' object has no attribute 'createOrReplaceTempView'"
     ]
    }
   ],
   "source": []
  },
  {
   "cell_type": "code",
   "execution_count": 16,
   "metadata": {},
   "outputs": [],
   "source": [
    "d.createOrReplaceTempView(\"tblProducts\")"
   ]
  },
  {
   "cell_type": "code",
   "execution_count": 17,
   "metadata": {},
   "outputs": [
    {
     "name": "stdout",
     "output_type": "stream",
     "text": [
      "+--------+---+\n",
      "|shortSku|day|\n",
      "+--------+---+\n",
      "| J132983| 24|\n",
      "| A132323| 24|\n",
      "| J132323| 24|\n",
      "|   K3827| 24|\n",
      "|   K3928| 19|\n",
      "|   K3827| 24|\n",
      "|  K43632| 24|\n",
      "|   K3827| 24|\n",
      "|   Z3892| 21|\n",
      "|  q43876| 24|\n",
      "|   K3827| 24|\n",
      "|   Z3892| 21|\n",
      "|   K3827| 24|\n",
      "|  K43632| 24|\n",
      "+--------+---+\n",
      "\n"
     ]
    }
   ],
   "source": [
    "df2 = spark.sql(\"SELECT * from tblProducts\")\n",
    "df2.show()"
   ]
  },
  {
   "cell_type": "code",
   "execution_count": 20,
   "metadata": {},
   "outputs": [
    {
     "name": "stdout",
     "output_type": "stream",
     "text": [
      "+--------+---+\n",
      "|shortSku|cnt|\n",
      "+--------+---+\n",
      "| A132323|  1|\n",
      "|   K3928|  1|\n",
      "|  q43876|  1|\n",
      "| J132983|  1|\n",
      "| J132323|  1|\n",
      "|   Z3892|  2|\n",
      "|  K43632|  2|\n",
      "|   K3827|  5|\n",
      "+--------+---+\n",
      "\n"
     ]
    }
   ],
   "source": [
    "df2 = spark.sql(\"SELECT shortSku, count(shortSku) as cnt FROM tblProducts group by shortSku\").show()"
   ]
  },
  {
   "cell_type": "code",
   "execution_count": 21,
   "metadata": {},
   "outputs": [
    {
     "name": "stdout",
     "output_type": "stream",
     "text": [
      "+--------+---+\n",
      "|shortSku|  c|\n",
      "+--------+---+\n",
      "|   Z3892|  2|\n",
      "|  K43632|  2|\n",
      "|   K3827|  5|\n",
      "+--------+---+\n",
      "\n"
     ]
    }
   ],
   "source": [
    "df2 = spark.sql(\"SELECT shortSku, count(*) as c from tblProducts group by shortSku having c > 1 \").show()"
   ]
  },
  {
   "cell_type": "code",
   "execution_count": 26,
   "metadata": {},
   "outputs": [
    {
     "name": "stdout",
     "output_type": "stream",
     "text": [
      "+--------+---+-------------+\n",
      "|shortSku|day|    countText|\n",
      "+--------+---+-------------+\n",
      "|   Z3892| 21|more than one|\n",
      "|  q43876| 24|more than one|\n",
      "| A132323| 24|more than one|\n",
      "| J132323| 24|more than one|\n",
      "| J132983| 24|more than one|\n",
      "|   K3928| 19|more than one|\n",
      "|  K43632| 24|more than one|\n",
      "|   K3827| 24|more than one|\n",
      "+--------+---+-------------+\n",
      "\n"
     ]
    }
   ],
   "source": [
    "# Spark 2.0 is ANSI SQL:2003 compliant\n",
    "spark.sql(\"SELECT shortSku, day, \\\n",
    "            CASE \\\n",
    "                WHEN day > 1 THEN 'more than one' \\\n",
    "                ELSE 'just one' \\\n",
    "            END AS countText from tblProducts group by shortSku, day\").show()"
   ]
  },
  {
   "cell_type": "code",
   "execution_count": null,
   "metadata": {},
   "outputs": [],
   "source": []
  }
 ],
 "metadata": {
  "kernelspec": {
   "display_name": "Python 3",
   "language": "python",
   "name": "python3"
  },
  "language_info": {
   "codemirror_mode": {
    "name": "ipython",
    "version": 3
   },
   "file_extension": ".py",
   "mimetype": "text/x-python",
   "name": "python",
   "nbconvert_exporter": "python",
   "pygments_lexer": "ipython3",
   "version": "3.7.3"
  }
 },
 "nbformat": 4,
 "nbformat_minor": 2
}
