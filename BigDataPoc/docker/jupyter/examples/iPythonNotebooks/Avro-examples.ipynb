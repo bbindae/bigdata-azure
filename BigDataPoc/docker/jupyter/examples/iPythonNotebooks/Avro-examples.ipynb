{
 "cells": [
  {
   "cell_type": "code",
   "execution_count": 1,
   "metadata": {},
   "outputs": [],
   "source": [
    "import pyspark\n",
    "import pyspark.sql.functions as f\n",
    "from pyspark.sql import SparkSession\n",
    "\n",
    "\n",
    "spark = SparkSession \\\n",
    "    .builder \\\n",
    "    .master(\"local\") \\\n",
    "    .appName(\"spark-avro-json-sample\") \\\n",
    "    .config('spark.hadoop.avro.mapred.ignore.inputs.without.extension', 'true') \\\n",
    "    .getOrCreate()"
   ]
  },
  {
   "cell_type": "code",
   "execution_count": 8,
   "metadata": {},
   "outputs": [
    {
     "name": "stdout",
     "output_type": "stream",
     "text": [
      "root\n",
      " |-- shortSku: string (nullable = true)\n",
      " |-- userId: string (nullable = true)\n",
      " |-- receiveAt: timestamp (nullable = true)\n",
      "\n",
      "+--------+-----------+---------+\n",
      "|shortSku|     userId|receiveAt|\n",
      "+--------+-----------+---------+\n",
      "| J132983|11193438098|     null|\n",
      "| A132323|11193438098|     null|\n",
      "| J132323|11193438098|     null|\n",
      "|   K3827|    3938783|     null|\n",
      "|   K3928|    3938783|     null|\n",
      "|   K3827|    3938783|     null|\n",
      "|  K43632|     111098|     null|\n",
      "|   K3827|    3938783|     null|\n",
      "|   Z3892|    3938783|     null|\n",
      "|  q43876|     111098|     null|\n",
      "|   K3827|    3938783|     null|\n",
      "|   Z3892|    3938783|     null|\n",
      "|   K3827|     111098|     null|\n",
      "|  K43632|     111098|     null|\n",
      "+--------+-----------+---------+\n",
      "\n"
     ]
    },
    {
     "data": {
      "text/plain": [
       "pyspark.sql.dataframe.DataFrame"
      ]
     },
     "execution_count": 8,
     "metadata": {},
     "output_type": "execute_result"
    }
   ],
   "source": [
    "avro_df = spark.read.format(\"avro\").load(\"/home/jovyan/examples/data-samples/product-data-capture/*/*/*/*/*/*\")\n",
    "json_df = avro_df.select(avro_df.Body.cast(\"string\")).rdd.map(lambda x: x[0])\n",
    "\n",
    "#define schema\n",
    "from pyspark.sql.types import StructType, StructField, TimestampType, StringType\n",
    "schema = StructType([StructField(\"shortSku\", StringType(), True), StructField(\"userId\", StringType(), True), \\\n",
    "                    StructField(\"receiveAt\", TimestampType(), True)])\n",
    "json_df = spark.read.json(json_df, schema = schema, timestampFormat=\"yyyy-MM-dd HH:mm:ss\")\n",
    "\n",
    "json_df.printSchema()\n",
    "json_df.show()\n",
    "type(json_df)"
   ]
  },
  {
   "cell_type": "code",
   "execution_count": null,
   "metadata": {},
   "outputs": [],
   "source": []
  },
  {
   "cell_type": "code",
   "execution_count": null,
   "metadata": {},
   "outputs": [],
   "source": []
  }
 ],
 "metadata": {
  "kernelspec": {
   "display_name": "Python 3",
   "language": "python",
   "name": "python3"
  },
  "language_info": {
   "codemirror_mode": {
    "name": "ipython",
    "version": 3
   },
   "file_extension": ".py",
   "mimetype": "text/x-python",
   "name": "python",
   "nbconvert_exporter": "python",
   "pygments_lexer": "ipython3",
   "version": "3.7.3"
  }
 },
 "nbformat": 4,
 "nbformat_minor": 2
}
