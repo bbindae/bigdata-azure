{
 "cells": [
  {
   "cell_type": "code",
   "execution_count": 1,
   "metadata": {},
   "outputs": [
    {
     "name": "stdout",
     "output_type": "stream",
     "text": [
      "+--------------------+--------+-----------+\n",
      "|          receivedAt|shortSku|     userId|\n",
      "+--------------------+--------+-----------+\n",
      "|2019-04-24T16:25:...| J132983|11193438098|\n",
      "|2019-04-24T18:25:...| A132323|11193438098|\n",
      "|2019-04-24T18:25:...| J132323|11193438098|\n",
      "|2019-04-24T16:35:...|   K3827|    3938783|\n",
      "|2019-04-19T16:35:...|   K3928|    3938783|\n",
      "|2019-04-24T16:35:...|   K3827|    3938783|\n",
      "|2019-04-24T16:35:...|  K43632|     111098|\n",
      "|2019-04-24T16:35:...|   K3827|    3938783|\n",
      "|2019-04-21T16:35:...|   Z3892|    3938783|\n",
      "|2019-04-24T16:35:...|  q43876|     111098|\n",
      "|2019-04-24T16:35:...|   K3827|    3938783|\n",
      "|2019-04-21T16:35:...|   Z3892|    3938783|\n",
      "|2019-04-24T16:35:...|   K3827|     111098|\n",
      "|2019-04-24T16:35:...|  K43632|     111098|\n",
      "+--------------------+--------+-----------+\n",
      "\n"
     ]
    }
   ],
   "source": [
    "# This will work only on Spark Docker cotainer and won't work on HDInsight-Spark Cluster\n",
    "\n",
    "import pyspark\n",
    "from pyspark.sql import SparkSession\n",
    "import pyspark.sql.functions as f\n",
    "from pyspark import SparkConf\n",
    "\n",
    "#use \".master(\"spark://spark-master:7077\") if you want to run this job on the cluster\n",
    "spark = SparkSession \\\n",
    "    .builder \\\n",
    "    .master(\"local\") \\\n",
    "    .appName(\"spark-avro-json-sample\") \\\n",
    "    .config('spark.hadoop.avro.mapred.ignore.inputs.without.extension', 'true') \\\n",
    "    .getOrCreate()\n",
    "\n",
    "# Load avro files into DataFrame\n",
    "# In production the file path should be either hdfs url or azure storage url\n",
    "avroDf = spark.read.format(\"avro\").load(\"/home/jovyan/examples/product-data-capture/*/*/*/*/*/*\") \n",
    "\n",
    "# DataFrame -> Json\n",
    "jsonRdd = avroDf.select(avroDf.Body.cast(\"string\")).rdd.map(lambda x: x[0])\n",
    "data = spark.read.json(jsonRdd)\n",
    "data.show()\n",
    "groupedData = data.groupby(\"shortSku\").agg(f.count(data[\"shortSku\"])).alias(\"sku count\")\n",
    "    "
   ]
  },
  {
   "cell_type": "code",
   "execution_count": 2,
   "metadata": {},
   "outputs": [
    {
     "name": "stdout",
     "output_type": "stream",
     "text": [
      "root\n",
      " |-- receivedAt: string (nullable = true)\n",
      " |-- shortSku: string (nullable = true)\n",
      " |-- userId: string (nullable = true)\n",
      "\n",
      "root\n",
      " |-- shortSku: string (nullable = true)\n",
      " |-- count(shortSku): long (nullable = false)\n",
      "\n"
     ]
    }
   ],
   "source": [
    "# print Json Schema\n",
    "data.printSchema()\n",
    "groupedData.printSchema()"
   ]
  },
  {
   "cell_type": "code",
   "execution_count": 3,
   "metadata": {},
   "outputs": [
    {
     "name": "stdout",
     "output_type": "stream",
     "text": [
      "root\n",
      " |-- shortSku: string (nullable = true)\n",
      " |-- userId: string (nullable = true)\n",
      " |-- receivedAt: timestamp (nullable = true)\n",
      "\n",
      "+--------+-----------+--------------------+\n",
      "|shortSku|     userId|          receivedAt|\n",
      "+--------+-----------+--------------------+\n",
      "| J132983|11193438098|2019-04-24 16:25:...|\n",
      "| A132323|11193438098|2019-04-24 18:25:...|\n",
      "| J132323|11193438098|2019-04-24 18:25:...|\n",
      "|   K3827|    3938783|2019-04-24 16:35:...|\n",
      "|   K3928|    3938783|2019-04-19 16:35:...|\n",
      "|   K3827|    3938783|2019-04-24 16:35:...|\n",
      "|  K43632|     111098|2019-04-24 16:35:...|\n",
      "|   K3827|    3938783|2019-04-24 16:35:...|\n",
      "|   Z3892|    3938783|2019-04-21 16:35:...|\n",
      "|  q43876|     111098|2019-04-24 16:35:...|\n",
      "|   K3827|    3938783|2019-04-24 16:35:...|\n",
      "|   Z3892|    3938783|2019-04-21 16:35:...|\n",
      "|   K3827|     111098|2019-04-24 16:35:...|\n",
      "|  K43632|     111098|2019-04-24 16:35:...|\n",
      "+--------+-----------+--------------------+\n",
      "\n"
     ]
    }
   ],
   "source": [
    "from pyspark.sql.types import StructType, StructField, TimestampType, StringType\n",
    "\n",
    "# DataFrame -> Json with a defined schema\n",
    "schema = StructType([StructField(\"shortSku\", StringType(), True), StructField(\"userId\", StringType(), True), StructField(\"receivedAt\", TimestampType(), True)])\n",
    "data = spark.read.json(jsonRdd, schema = schema, timestampFormat=\"yyyy-MM-dd HH:mm:ss\")\n",
    "data.printSchema()\n",
    "data.show()"
   ]
  },
  {
   "cell_type": "code",
   "execution_count": 4,
   "metadata": {},
   "outputs": [
    {
     "name": "stdout",
     "output_type": "stream",
     "text": [
      "                                  userId\n",
      "shortSku receivedAt                     \n",
      "A132323  2019-04-24 18:25:43.511       1\n",
      "J132323  2019-04-24 18:25:43.511       1\n",
      "J132983  2019-04-24 16:25:43.511       1\n",
      "K3827    2019-04-24 16:35:43.511       5\n",
      "K3928    2019-04-19 16:35:43.511       1\n",
      "K43632   2019-04-24 16:35:43.511       2\n",
      "Z3892    2019-04-21 16:35:43.511       2\n",
      "q43876   2019-04-24 16:35:43.511       1\n"
     ]
    }
   ],
   "source": [
    "# Pandas example\n",
    "import pandas as pd\n",
    "from pandas import DataFrame\n",
    "import dateutil.parser as parser\n",
    "\n",
    "# DataFrame => Pandas\n",
    "pd = data.toPandas()\n",
    "pd = pd.groupby(by=['shortSku', 'receivedAt']).count()\n",
    "print(pd)"
   ]
  },
  {
   "cell_type": "code",
   "execution_count": 5,
   "metadata": {},
   "outputs": [
    {
     "name": "stdout",
     "output_type": "stream",
     "text": [
      "userId    int64\n",
      "dtype: object\n"
     ]
    }
   ],
   "source": [
    "print(pd.dtypes)"
   ]
  },
  {
   "cell_type": "code",
   "execution_count": null,
   "metadata": {},
   "outputs": [],
   "source": []
  }
 ],
 "metadata": {
  "kernelspec": {
   "display_name": "Python 3",
   "language": "python",
   "name": "python3"
  },
  "language_info": {
   "codemirror_mode": {
    "name": "ipython",
    "version": 3
   },
   "file_extension": ".py",
   "mimetype": "text/x-python",
   "name": "python",
   "nbconvert_exporter": "python",
   "pygments_lexer": "ipython3",
   "version": "3.7.3"
  }
 },
 "nbformat": 4,
 "nbformat_minor": 2
}
