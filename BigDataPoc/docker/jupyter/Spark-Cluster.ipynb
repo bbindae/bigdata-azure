{
 "cells": [
  {
   "cell_type": "code",
   "execution_count": null,
   "metadata": {},
   "outputs": [],
   "source": [
    "#import os\n",
    "# make sure pyspark tells workers to use python3 not 2 if both are installed\n",
    "os.environ['PYSPARK_PYTHON'] = '/usr/bin/python3'\n",
    "\n",
    "import pyspark\n",
    "conf = pyspark.SparkConf()\n",
    "\n",
    "# point to mesos master or zookeeper entry (e.g., zk://10.10.10.10:2181/mesos)\n",
    "conf.setMaster(\"spark://spark-master:7077\")\n",
    "# point to spark binary package in HDFS or on local filesystem on all slave\n",
    "# nodes (e.g., file:///opt/spark/spark-2.2.0-bin-hadoop2.7.tgz)\n",
    "#conf.set(\"spark.executor.uri\", \"hdfs://10.10.10.10/spark/spark-2.2.0-bin-hadoop2.7.tgz\")\n",
    "# set other options as desired\n",
    "#conf.set(\"spark.executor.memory\", \"8g\")\n",
    "#conf.set(\"spark.core.connection.ack.wait.timeout\", \"1200\")\n",
    "\n",
    "# create the context\n",
    "sc = pyspark.SparkContext(conf=conf)\n",
    "\n",
    "# do something to prove it works\n",
    "rdd = sc.parallelize(range(100000000))\n",
    "rdd.sumApprox(3)\n",
    "\n",
    "# stop the context\n",
    "sc.stop()"
   ]
  }
 ],
 "metadata": {
  "kernelspec": {
   "display_name": "Python 3",
   "language": "python",
   "name": "python3"
  },
  "language_info": {
   "codemirror_mode": {
    "name": "ipython",
    "version": 3
   },
   "file_extension": ".py",
   "mimetype": "text/x-python",
   "name": "python",
   "nbconvert_exporter": "python",
   "pygments_lexer": "ipython3",
   "version": "3.7.3"
  }
 },
 "nbformat": 4,
 "nbformat_minor": 2
}
